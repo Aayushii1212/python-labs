{
 "cells": [
  {
   "cell_type": "markdown",
   "metadata": {},
   "source": [
    "<a href='https://www.darshan.ac.in/'> <img src='https://www.darshan.ac.in/Content/media/DU_Logo.svg' width=\"250\" height=\"10\"/></a>\n",
    "<pre>\n",
    "<center><b><h1>Python Programming - 2301CS404</b></center>\n",
    "<center><b><h1>Lab - 1</b></center>    \n",
    "<pre>"
   ]
  },
  {
   "cell_type": "markdown",
   "metadata": {},
   "source": [
    "### 01) WAP to print “Hello World”"
   ]
  },
  {
   "cell_type": "code",
   "execution_count": 5,
   "metadata": {},
   "outputs": [
    {
     "name": "stdout",
     "output_type": "stream",
     "text": [
      "Hello World\n"
     ]
    }
   ],
   "source": [
    "print(\"Hello World\")"
   ]
  },
  {
   "cell_type": "markdown",
   "metadata": {},
   "source": [
    "### 02) WAP to print addition of two numbers with and without using input()."
   ]
  },
  {
   "cell_type": "code",
   "execution_count": 6,
   "metadata": {},
   "outputs": [
    {
     "name": "stdout",
     "output_type": "stream",
     "text": [
      "a+b=30\n",
      "Enter number:10\n",
      "Enter number:20\n",
      "30\n"
     ]
    }
   ],
   "source": [
    "a=10\n",
    "b=20\n",
    "print(f\"a+b={a+b}\")\n",
    "\n",
    "a1 = int(input(\"Enter number:\"))\n",
    "a2 = int(input(\"Enter number:\"))\n",
    "print(a1+a2)\n"
   ]
  },
  {
   "cell_type": "markdown",
   "metadata": {},
   "source": [
    "### 03) WAP to check the type of the variable."
   ]
  },
  {
   "cell_type": "code",
   "execution_count": 7,
   "metadata": {},
   "outputs": [
    {
     "name": "stdout",
     "output_type": "stream",
     "text": [
      "Enter value of b1:23\n",
      "<class 'str'>\n"
     ]
    }
   ],
   "source": [
    "b1 = input(\"Enter value of b1:\")\n",
    "print(type(b1))"
   ]
  },
  {
   "cell_type": "markdown",
   "metadata": {},
   "source": [
    " 04) WAP to calculate simple interest."
   ]
  },
  {
   "cell_type": "code",
   "execution_count": 8,
   "metadata": {},
   "outputs": [
    {
     "name": "stdout",
     "output_type": "stream",
     "text": [
      "Enter Principle Amount:100\n",
      "Enter Rate of interest:10\n",
      "Enter Time in year:1\n",
      "Interest is : 10.0\n"
     ]
    }
   ],
   "source": [
    "p = int(input(\"Enter Principle Amount:\"))\n",
    "r = float(input(\"Enter Rate of interest:\"))\n",
    "t = int(input(\"Enter Time in year:\"))\n",
    "\n",
    "print(f\"Interest is : {p*r*t/100}\")"
   ]
  },
  {
   "cell_type": "markdown",
   "metadata": {},
   "source": [
    "### 05) WAP to calculate area and perimeter of a circle."
   ]
  },
  {
   "cell_type": "code",
   "execution_count": 10,
   "metadata": {},
   "outputs": [
    {
     "name": "stdout",
     "output_type": "stream",
     "text": [
      "Enter raduis of circle100\n",
      "Perimeter is : 628.3185307179587\n",
      "Area is : 31415.926535897932\n"
     ]
    }
   ],
   "source": [
    "import math\n",
    "r1 = float(input(\"Enter raduis of circle\"))\n",
    "\n",
    "print(f\"Perimeter is : {2*math.pi*r1}\")\n",
    "print(f\"Area is : {r1*math.pi*r1}\")"
   ]
  },
  {
   "cell_type": "markdown",
   "metadata": {},
   "source": [
    "### 06) WAP to calculate area of a triangle."
   ]
  },
  {
   "cell_type": "code",
   "execution_count": 11,
   "metadata": {},
   "outputs": [
    {
     "name": "stdout",
     "output_type": "stream",
     "text": [
      "Enter Base of triangle:10\n",
      "Enter height of triangle:10\n",
      "Area is : 50.0\n"
     ]
    }
   ],
   "source": [
    "base = float(input(\"Enter Base of triangle:\"))\n",
    "height = float(input(\"Enter height of triangle:\"))\n",
    "print(f\"Area is : {1/2*base*height}\")"
   ]
  },
  {
   "cell_type": "markdown",
   "metadata": {},
   "source": [
    "### 07) WAP to compute quotient and remainder."
   ]
  },
  {
   "cell_type": "code",
   "execution_count": 15,
   "metadata": {},
   "outputs": [
    {
     "name": "stdout",
     "output_type": "stream",
     "text": [
      "Enter divisor:12\n",
      "Enter divident:363\n",
      "363.0/12.0 = 30\n",
      "363.0%12.0 = 3\n"
     ]
    }
   ],
   "source": [
    "d1 = float(input(\"Enter divisor:\"))\n",
    "d2 = float(input(\"Enter divident:\"))\n",
    "\n",
    "print(f\"{d2}/{d1} = {int(d2/d1)}\")\n",
    "print(f\"{d2}%{d1} = {int(d2%d1)}\")"
   ]
  },
  {
   "cell_type": "markdown",
   "metadata": {},
   "source": [
    "### 08) WAP to convert degree into Fahrenheit and vice versa."
   ]
  },
  {
   "cell_type": "code",
   "execution_count": 18,
   "metadata": {},
   "outputs": [
    {
     "name": "stdout",
     "output_type": "stream",
     "text": [
      "Enter Temp in Celcius: 21\n",
      "21.0C = 69.80000000000001F\n",
      "Enter Temp in Fahrenheit: 69.80\n",
      "69.8F = 21.0C\n"
     ]
    }
   ],
   "source": [
    "celcius = float(input(\"Enter Temp in Celcius: \"))\n",
    "print(f\"{celcius}C = {(celcius*(9/5))+32}F\")\n",
    "\n",
    "fah = float(input(\"Enter Temp in Fahrenheit: \"))\n",
    "print(f\"{fah}F = {(fah-32)*(5/9)}C\")"
   ]
  },
  {
   "cell_type": "markdown",
   "metadata": {},
   "source": [
    "### 09) WAP to find the distance between two points in 2-D space."
   ]
  },
  {
   "cell_type": "code",
   "execution_count": 19,
   "metadata": {},
   "outputs": [
    {
     "name": "stdout",
     "output_type": "stream",
     "text": [
      "Enter x1:2\n",
      "Enter y1:3\n",
      "Enter x2:3\n",
      "Enter y2:4\n",
      "1.4142135623730951\n"
     ]
    }
   ],
   "source": [
    "import math\n",
    "\n",
    "x1 = int(input(\"Enter x1:\"))\n",
    "y1 = int(input(\"Enter y1:\"))\n",
    "\n",
    "x2 = int(input(\"Enter x2:\"))\n",
    "y2 = int(input(\"Enter y2:\"))\n",
    "\n",
    "ans = math.sqrt(((x1-x2)**2)+((y1-y2)**2))\n",
    "print(ans);"
   ]
  },
  {
   "cell_type": "markdown",
   "metadata": {},
   "source": [
    "### 10) WAP to print sum of n natural numbers."
   ]
  },
  {
   "cell_type": "code",
   "execution_count": 21,
   "metadata": {},
   "outputs": [
    {
     "name": "stdout",
     "output_type": "stream",
     "text": [
      "Enter n : 3\n",
      "ans = 6.0\n"
     ]
    }
   ],
   "source": [
    "num = int(input(\"Enter n : \"))\n",
    "print(f\"ans = {num*(num+1)/2}\")"
   ]
  },
  {
   "cell_type": "markdown",
   "metadata": {},
   "source": [
    "### 11) WAP to print sum of square of n natural numbers."
   ]
  },
  {
   "cell_type": "code",
   "execution_count": 25,
   "metadata": {},
   "outputs": [
    {
     "name": "stdout",
     "output_type": "stream",
     "text": [
      "Enter n : 3\n",
      "ans = 14.0 \n"
     ]
    }
   ],
   "source": [
    "num1 = int(input(\"Enter n : \"))\n",
    "anss = num1*(num1+1)*((2*num1)+1)/6\n",
    "print(f\"ans = {anss} \")"
   ]
  },
  {
   "cell_type": "markdown",
   "metadata": {},
   "source": [
    "### 12) WAP to concate the first and last name of the student."
   ]
  },
  {
   "cell_type": "code",
   "execution_count": 26,
   "metadata": {},
   "outputs": [
    {
     "name": "stdout",
     "output_type": "stream",
     "text": [
      "Enter First NameBirva\n",
      "Enter Last NameVaghasiya\n",
      "Birva Vaghasiya\n"
     ]
    }
   ],
   "source": [
    "fname = input(\"Enter First Name\")\n",
    "lname = input(\"Enter Last Name\")\n",
    "print(f\"{fname} {lname}\")"
   ]
  },
  {
   "cell_type": "markdown",
   "metadata": {},
   "source": [
    "### 13) WAP to swap two numbers."
   ]
  },
  {
   "cell_type": "code",
   "execution_count": 27,
   "metadata": {},
   "outputs": [
    {
     "name": "stdout",
     "output_type": "stream",
     "text": [
      "enter num14\n",
      "enter num13\n",
      "p1=13 p2=14\n"
     ]
    }
   ],
   "source": [
    "p1 = int(input(\"enter num1 \"))\n",
    "p2 = int(input(\"enter num2 \"))\n",
    "\n",
    "temp = p1\n",
    "p1 = p2\n",
    "p2 = temp\n",
    "\n",
    "print(f\"p1={p1} p2={p2}\")"
   ]
  },
  {
   "cell_type": "markdown",
   "metadata": {},
   "source": [
    "### 14) WAP to get the distance from user into kilometer, and convert it into meter, feet, inches and centimeter."
   ]
  },
  {
   "cell_type": "code",
   "execution_count": 28,
   "metadata": {},
   "outputs": [
    {
     "name": "stdout",
     "output_type": "stream",
     "text": [
      "Enter distance(km): 12\n",
      "meter = 12000 feet = 39372  inch = 472464 cm = 1200000\n"
     ]
    }
   ],
   "source": [
    "dis = int(input(\"Enter distance(km): \"))\n",
    "print(f\"meter = {dis*1000} feet = {3281*dis}  inch = {3281*dis*12} cm = {100*1000*dis}\")\n"
   ]
  },
  {
   "cell_type": "markdown",
   "metadata": {},
   "source": [
    "### 15) WAP to get day, month and year from the user and print the date in the given format: 23-11-2024."
   ]
  },
  {
   "cell_type": "code",
   "execution_count": 29,
   "metadata": {},
   "outputs": [
    {
     "name": "stdout",
     "output_type": "stream",
     "text": [
      "enter day 14\n",
      "enter month 9\n",
      "enter year 2006\n",
      "14-9-2006\n"
     ]
    }
   ],
   "source": [
    "day = int(input(\"enter day \"))\n",
    "month = int(input(\"enter month \"))\n",
    "year = int(input(\"enter year \"))\n",
    "\n",
    "print(f\"{day}-{month}-{year}\")"
   ]
  },
  {
   "cell_type": "code",
   "execution_count": null,
   "metadata": {},
   "outputs": [],
   "source": []
  }
 ],
 "metadata": {
  "kernelspec": {
   "display_name": "Python 3 (ipykernel)",
   "language": "python",
   "name": "python3"
  },
  "language_info": {
   "codemirror_mode": {
    "name": "ipython",
    "version": 3
   },
   "file_extension": ".py",
   "mimetype": "text/x-python",
   "name": "python",
   "nbconvert_exporter": "python",
   "pygments_lexer": "ipython3",
   "version": "3.10.9"
  },
  "vscode": {
   "interpreter": {
    "hash": "31f2aee4e71d21fbe5cf8b01ff0e069b9275f58929596ceb00d14d90e3e16cd6"
   }
  }
 },
 "nbformat": 4,
 "nbformat_minor": 4
}
