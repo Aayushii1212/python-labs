{
 "cells": [
  {
   "cell_type": "markdown",
   "metadata": {},
   "source": [
    "\n",
    "<a href='https://www.darshan.ac.in/'> <img src='https://www.darshan.ac.in/Content/media/DU_Logo.svg' width=\"250\" height=\"300\"/></a>\n",
    "<pre>\n",
    "<center><b><h1>Python Programming - 2301CS404</b></center>\n",
    "<center><b><h1>Lab - 5</b></center>    \n",
    "<pre>"
   ]
  },
  {
   "cell_type": "markdown",
   "metadata": {},
   "source": [
    "# List"
   ]
  },
  {
   "cell_type": "markdown",
   "metadata": {},
   "source": [
    "### 01) WAP to find sum of all the elements in a List."
   ]
  },
  {
   "cell_type": "code",
   "execution_count": 5,
   "metadata": {},
   "outputs": [
    {
     "name": "stdout",
     "output_type": "stream",
     "text": [
      "Enter -1 if you are done entering numbers in the list\n",
      "Enter the number:1\n",
      "Enter the number:2\n",
      "Enter the number:4\n",
      "Enter the number:-1\n",
      "7\n"
     ]
    }
   ],
   "source": [
    "print(\"Enter -1 if you are done entering numbers in the list\")\n",
    "li=[]\n",
    "i=int(input(\"Enter the number:\"))\n",
    "sum=0\n",
    "while i!=-1:\n",
    "    li.append(i)\n",
    "    sum=sum+i\n",
    "    i=int(input(\"Enter the number:\"))\n",
    "print(sum)\n",
    "    "
   ]
  },
  {
   "cell_type": "markdown",
   "metadata": {},
   "source": [
    "### 02) WAP to find largest element in a List."
   ]
  },
  {
   "cell_type": "code",
   "execution_count": 9,
   "metadata": {},
   "outputs": [
    {
     "name": "stdout",
     "output_type": "stream",
     "text": [
      "Enter -1 if you are done entering numbers in the list\n",
      "Enter the number:2\n",
      "Enter the number:3\n",
      "Enter the number:4\n",
      "Enter the number:-1\n",
      "Largest element is 4\n"
     ]
    }
   ],
   "source": [
    "print(\"Enter -1 if you are done entering numbers in the list\")\n",
    "l1=[]\n",
    "i=int(input(\"Enter the number:\"))\n",
    "while i!=-1:\n",
    "    l1.append(i)\n",
    "    i=int(input(\"Enter the number:\"))\n",
    "l1.sort()\n",
    "print(f\"Largest element is {l1[len(l1)-1]}\")"
   ]
  },
  {
   "cell_type": "markdown",
   "metadata": {},
   "source": [
    "### 03) WAP to find the length of a List."
   ]
  },
  {
   "cell_type": "code",
   "execution_count": 10,
   "metadata": {},
   "outputs": [
    {
     "name": "stdout",
     "output_type": "stream",
     "text": [
      "Enter -1 if you are done entering numbers in the list\n",
      "Enter the number:2\n",
      "Enter the number:3\n",
      "Enter the number:4\n",
      "Enter the number:5\n",
      "Enter the number:6\n",
      "Enter the number:-1\n",
      "Length of list is 5\n"
     ]
    }
   ],
   "source": [
    "print(\"Enter -1 if you are done entering numbers in the list\")\n",
    "l2=[]\n",
    "i=int(input(\"Enter the number:\"))\n",
    "while i!=-1:\n",
    "    l2.append(i)\n",
    "    i=int(input(\"Enter the number:\"))\n",
    "print(f\"Length of list is {len(l2)}\")"
   ]
  },
  {
   "cell_type": "markdown",
   "metadata": {},
   "source": [
    "### 04) WAP to interchange first and last elements in a list."
   ]
  },
  {
   "cell_type": "code",
   "execution_count": 12,
   "metadata": {},
   "outputs": [
    {
     "name": "stdout",
     "output_type": "stream",
     "text": [
      "Enter -1 if you are done entering numbers in the list\n",
      "Enter the number:2\n",
      "Enter the number:3\n",
      "Enter the number:4\n",
      "Enter the number:5\n",
      "Enter the number:6\n",
      "Enter the number:-1\n",
      "[6, 3, 4, 5, 2]\n"
     ]
    }
   ],
   "source": [
    "print(\"Enter -1 if you are done entering numbers in the list\")\n",
    "l3=[]\n",
    "i=int(input(\"Enter the number:\"))\n",
    "while i!=-1:\n",
    "    l3.append(i)\n",
    "    i=int(input(\"Enter the number:\"))\n",
    "temp=l3[len(l3)-1]\n",
    "l3[len(l3)-1]=l3[0]\n",
    "l3[0]=temp\n",
    "print(l3)"
   ]
  },
  {
   "cell_type": "markdown",
   "metadata": {},
   "source": [
    "### 05) WAP to split the List into two parts and append the first part to the end."
   ]
  },
  {
   "cell_type": "code",
   "execution_count": 24,
   "metadata": {},
   "outputs": [
    {
     "name": "stdout",
     "output_type": "stream",
     "text": [
      "[6, 7, 8, 9, 10, 1, 2, 3, 4, 5]\n"
     ]
    }
   ],
   "source": [
    "l4=[1,2,3,4,5,6,7,8,9,10]\n",
    "p1=l4[0:int(len(l4)/2)]\n",
    "p2=l4[int((len(l4)/2)):len(l4)]\n",
    "p2.extend(p1)\n",
    "print(p2)\n",
    "# p1=l4[0:int(len(l4)/2)]\n",
    "# p2=l4[int(len(l4)/2):int(len(l4))]\n",
    "# p2.extend(p1)\n",
    "# print(p2)"
   ]
  },
  {
   "cell_type": "markdown",
   "metadata": {},
   "source": [
    "### 06) WAP to interchange the elements on two positions entered by a user."
   ]
  },
  {
   "cell_type": "code",
   "execution_count": 25,
   "metadata": {},
   "outputs": [
    {
     "name": "stdout",
     "output_type": "stream",
     "text": [
      "Enter position to swap:5\n",
      "Enter position to swap with:9\n",
      "[1, 2, 3, 4, 5, 10, 7, 8, 9, 6]\n"
     ]
    }
   ],
   "source": [
    "l1=[1,2,3,4,5,6,7,8,9,10]\n",
    "x1=int(input(\"Enter position to swap:\"))\n",
    "x2=int(input(\"Enter position to swap with:\"))\n",
    "temp=l1[x1]\n",
    "l1[x1]=l1[x2]\n",
    "l1[x2]=temp\n",
    "print(l1)"
   ]
  },
  {
   "cell_type": "markdown",
   "metadata": {},
   "source": [
    "### 07) WAP to reverse the list entered by user."
   ]
  },
  {
   "cell_type": "code",
   "execution_count": 26,
   "metadata": {},
   "outputs": [
    {
     "name": "stdout",
     "output_type": "stream",
     "text": [
      "Enter -1 if you are done entering numbers in the list\n",
      "Enter the number:1\n",
      "Enter the number:2\n",
      "Enter the number:3\n",
      "Enter the number:4\n",
      "Enter the number:-1\n",
      "[4, 3, 2, 1]\n"
     ]
    }
   ],
   "source": [
    "print(\"Enter -1 if you are done entering numbers in the list\")\n",
    "l3=[]\n",
    "i=int(input(\"Enter the number:\"))\n",
    "while i!=-1:\n",
    "    l3.append(i)\n",
    "    i=int(input(\"Enter the number:\"))\n",
    "l3.reverse()\n",
    "print(l3)"
   ]
  },
  {
   "cell_type": "markdown",
   "metadata": {},
   "source": [
    "### 08) WAP to print even numbers in a list."
   ]
  },
  {
   "cell_type": "code",
   "execution_count": 29,
   "metadata": {},
   "outputs": [
    {
     "name": "stdout",
     "output_type": "stream",
     "text": [
      "Enter -1 if you are done entering numbers in the list\n",
      "Enter the number:1\n",
      "Enter the number:2\n",
      "Enter the number:3\n",
      "Enter the number:4\n",
      "Enter the number:-1\n",
      "[2, 4]\n"
     ]
    }
   ],
   "source": [
    "print(\"Enter -1 if you are done entering numbers in the list\")\n",
    "l3=[]\n",
    "i=int(input(\"Enter the number:\"))\n",
    "while i!=-1:\n",
    "    l3.append(i)\n",
    "    i=int(input(\"Enter the number:\"))\n",
    "l3=[i for i in l3 if i%2==0]\n",
    "print(l3)"
   ]
  },
  {
   "cell_type": "markdown",
   "metadata": {},
   "source": [
    "### 09) WAP to count unique items in a list."
   ]
  },
  {
   "cell_type": "code",
   "execution_count": 31,
   "metadata": {},
   "outputs": [
    {
     "name": "stdout",
     "output_type": "stream",
     "text": [
      "Enter -1 if you are done entering numbers in the list\n",
      "Enter the number:1\n",
      "Enter the number:2\n",
      "Enter the number:2\n",
      "Enter the number:3\n",
      "Enter the number:3\n",
      "Enter the number:4\n",
      "Enter the number:4\n",
      "Enter the number:5\n",
      "Enter the number:-1\n",
      "[1, 5]\n"
     ]
    }
   ],
   "source": [
    "print(\"Enter -1 if you are done entering numbers in the list\")\n",
    "l3=[]\n",
    "i=int(input(\"Enter the number:\"))\n",
    "while i!=-1:\n",
    "    l3.append(i)\n",
    "    i=int(input(\"Enter the number:\"))\n",
    "l3=[i for i in l3 if l3.count(i)==1]\n",
    "print(l3)"
   ]
  },
  {
   "cell_type": "markdown",
   "metadata": {},
   "source": [
    "### 10) WAP to copy a list."
   ]
  },
  {
   "cell_type": "code",
   "execution_count": 32,
   "metadata": {},
   "outputs": [
    {
     "name": "stdout",
     "output_type": "stream",
     "text": [
      "Enter -1 if you are done entering numbers in the list\n",
      "Enter the number:1\n",
      "Enter the number:2\n",
      "Enter the number:3\n",
      "Enter the number:-1\n",
      "[1, 2, 3]\n"
     ]
    }
   ],
   "source": [
    "print(\"Enter -1 if you are done entering numbers in the list\")\n",
    "l3=[]\n",
    "i=int(input(\"Enter the number:\"))\n",
    "while i!=-1:\n",
    "    l3.append(i)\n",
    "    i=int(input(\"Enter the number:\"))\n",
    "x=l3.copy()\n",
    "print(x)"
   ]
  },
  {
   "cell_type": "markdown",
   "metadata": {},
   "source": [
    "### 11) WAP to print all odd numbers in a given range."
   ]
  },
  {
   "cell_type": "code",
   "execution_count": 33,
   "metadata": {},
   "outputs": [
    {
     "name": "stdout",
     "output_type": "stream",
     "text": [
      "Enter range:5\n",
      "[1, 3]\n"
     ]
    }
   ],
   "source": [
    "x=int(input(\"Enter range:\"))\n",
    "l3=[i for i in range(x) if i%2==1]\n",
    "print(l3)"
   ]
  },
  {
   "cell_type": "markdown",
   "metadata": {},
   "source": [
    "### 12) WAP to count occurrences of an element in a list."
   ]
  },
  {
   "cell_type": "code",
   "execution_count": 34,
   "metadata": {},
   "outputs": [
    {
     "name": "stdout",
     "output_type": "stream",
     "text": [
      "Enter -1 if you are done entering numbers in the list\n",
      "Enter the number:1\n",
      "Enter the number:2\n",
      "Enter the number:2\n",
      "Enter the number:3\n",
      "Enter the number:4\n",
      "Enter the number:-1\n",
      "Enter element you want frequency of:2\n",
      "2\n"
     ]
    }
   ],
   "source": [
    "print(\"Enter -1 if you are done entering numbers in the list\")\n",
    "l3=[]\n",
    "i=int(input(\"Enter the number:\"))\n",
    "while i!=-1:\n",
    "    l3.append(i)\n",
    "    i=int(input(\"Enter the number:\"))\n",
    "x=int(input(\"Enter element you want frequency of:\"))\n",
    "print(l3.count(x))"
   ]
  },
  {
   "cell_type": "markdown",
   "metadata": {},
   "source": [
    "### 13) WAP to find second largest number in a list."
   ]
  },
  {
   "cell_type": "code",
   "execution_count": 35,
   "metadata": {},
   "outputs": [
    {
     "name": "stdout",
     "output_type": "stream",
     "text": [
      "Enter -1 if you are done entering numbers in the list\n",
      "Enter the number:1\n",
      "Enter the number:2\n",
      "Enter the number:3\n",
      "Enter the number:7\n",
      "Enter the number:6\n",
      "Enter the number:5\n",
      "Enter the number:-1\n",
      "Second largest element is 6\n"
     ]
    }
   ],
   "source": [
    "print(\"Enter -1 if you are done entering numbers in the list\")\n",
    "l1=[]\n",
    "i=int(input(\"Enter the number:\"))\n",
    "while i!=-1:\n",
    "    l1.append(i)\n",
    "    i=int(input(\"Enter the number:\"))\n",
    "l1.sort()\n",
    "print(f\"Second largest element is {l1[len(l1)-2]}\")"
   ]
  },
  {
   "cell_type": "markdown",
   "metadata": {},
   "source": [
    "### 14) WAP to extract elements with frequency greater than K."
   ]
  },
  {
   "cell_type": "code",
   "execution_count": 50,
   "metadata": {},
   "outputs": [
    {
     "name": "stdout",
     "output_type": "stream",
     "text": [
      "Enter -1 if you are done entering numbers in the list\n",
      "Enter the number:1\n",
      "Enter the number:2\n",
      "Enter the number:3\n",
      "Enter the number:3\n",
      "Enter the number:3\n",
      "Enter the number:4\n",
      "Enter the number:4\n",
      "Enter the number:4\n",
      "Enter the number:4\n",
      "Enter the number:5\n",
      "Enter the number:-1\n",
      "Enter frequency you want to find elements greater in:2\n",
      "[3, 4]\n"
     ]
    }
   ],
   "source": [
    "print(\"Enter -1 if you are done entering numbers in the list\")\n",
    "l1=[]\n",
    "i=int(input(\"Enter the number:\"))\n",
    "while i!=-1:\n",
    "    l1.append(i)\n",
    "    i=int(input(\"Enter the number:\"))\n",
    "k=int(input(\"Enter frequency you want to find elements greater in:\"))\n",
    "l1=[i for i in l1 if l1.count(i)>k]\n",
    "for i in l1:\n",
    "    n=l1.count(i)-1\n",
    "    while(n!=0):\n",
    "        l1.remove(i)\n",
    "        n=n-1\n",
    "print(l1)"
   ]
  },
  {
   "cell_type": "markdown",
   "metadata": {},
   "source": [
    "### 15) WAP to create a list of squared numbers from 0 to 9 with and without using List Comprehension."
   ]
  },
  {
   "cell_type": "code",
   "execution_count": 41,
   "metadata": {},
   "outputs": [
    {
     "name": "stdout",
     "output_type": "stream",
     "text": [
      "[0, 1, 4, 9, 16, 25, 36, 49, 64, 81]\n",
      "[0, 1, 4, 9, 16, 25, 36, 49, 64, 81]\n"
     ]
    }
   ],
   "source": [
    "l1=[]\n",
    "i=0\n",
    "while i<=9:\n",
    "    l1.append(i*i)\n",
    "    i=i+1\n",
    "print(l1)\n",
    "\n",
    "l1=[i**2 for i in range(10)]\n",
    "print(l1)"
   ]
  },
  {
   "cell_type": "markdown",
   "metadata": {},
   "source": [
    "### 16) WAP to create a new list (fruit whose name starts with 'b') from the list of fruits given by user."
   ]
  },
  {
   "cell_type": "code",
   "execution_count": 47,
   "metadata": {},
   "outputs": [
    {
     "name": "stdout",
     "output_type": "stream",
     "text": [
      "Enter -1 if you are done entering elements in the list\n",
      "Enter element:Banana\n",
      "Enter element:watermelon\n",
      "Enter element:apple\n",
      "Enter element:Ball\n",
      "Enter element:bus\n",
      "Enter element:amla\n",
      "Enter element:-1\n",
      "['Banana', 'Ball', 'bus']\n"
     ]
    }
   ],
   "source": [
    "print(\"Enter -1 if you are done entering elements in the list\")\n",
    "l1=[]\n",
    "p1=[]\n",
    "i=input(\"Enter element:\")\n",
    "while i!='-1':\n",
    "    l1.append(i)\n",
    "    i=input(\"Enter element:\")\n",
    "for i in l1:\n",
    "    if(i[0]=='b'or i[0]=='B'):\n",
    "        p1.append(i)\n",
    "print(p1)"
   ]
  },
  {
   "cell_type": "markdown",
   "metadata": {},
   "source": [
    "### 17) WAP to create a list of common elements from given two lists."
   ]
  },
  {
   "cell_type": "code",
   "execution_count": 54,
   "metadata": {},
   "outputs": [
    {
     "name": "stdout",
     "output_type": "stream",
     "text": [
      "[6, 7, 8, 9, 10]\n"
     ]
    }
   ],
   "source": [
    "l1=[1,2,3,4,5,6,7,8,9,10]\n",
    "l2=[6,7,8,9,10,11,12]\n",
    "p1=[]\n",
    "for i in l1:\n",
    "    for j in l2:\n",
    "        if j==i:\n",
    "            p1.append(i)\n",
    "print(p1)"
   ]
  },
  {
   "cell_type": "code",
   "execution_count": null,
   "metadata": {},
   "outputs": [],
   "source": []
  }
 ],
 "metadata": {
  "kernelspec": {
   "display_name": "Python 3 (ipykernel)",
   "language": "python",
   "name": "python3"
  },
  "language_info": {
   "codemirror_mode": {
    "name": "ipython",
    "version": 3
   },
   "file_extension": ".py",
   "mimetype": "text/x-python",
   "name": "python",
   "nbconvert_exporter": "python",
   "pygments_lexer": "ipython3",
   "version": "3.10.9"
  }
 },
 "nbformat": 4,
 "nbformat_minor": 4
}
