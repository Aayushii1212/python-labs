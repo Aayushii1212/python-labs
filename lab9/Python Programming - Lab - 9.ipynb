{
 "cells": [
  {
   "cell_type": "markdown",
   "metadata": {},
   "source": [
    "<a href='https://www.darshan.ac.in/'> <img src='https://www.darshan.ac.in/Content/media/DU_Logo.svg' width=\"250\" height=\"300\"/></a>\n",
    "<pre>\n",
    "<center><b><h1>Python Programming - 2301CS404</b></center>\n",
    "<center><b><h1>Lab - 9</b></center>    \n",
    "<pre>"
   ]
  },
  {
   "cell_type": "markdown",
   "metadata": {},
   "source": [
    "# File I/O"
   ]
  },
  {
   "cell_type": "markdown",
   "metadata": {},
   "source": [
    "### 01) WAP to read and display the contents of a text file. (also try to open the file in some other directory) \n",
    "#### - in the form of a string\n",
    "#### - line by line\n",
    "#### - in the form of a list"
   ]
  },
  {
   "cell_type": "code",
   "execution_count": 26,
   "metadata": {},
   "outputs": [
    {
     "name": "stdout",
     "output_type": "stream",
     "text": [
      "['Birva\\n', 'vaghasiya\\n', 'uday']\n"
     ]
    }
   ],
   "source": [
    "fo = open(\"try.txt\" , \"r\")\n",
    "\n",
    "\n",
    "for i in fo:\n",
    "    data = fo.read()\n",
    "    fo.seek(0)\n",
    "    line = fo.readlines()\n",
    "print(line)\n",
    "\n",
    "fo.close()"
   ]
  },
  {
   "cell_type": "markdown",
   "metadata": {},
   "source": [
    "### 02) WAP to create file named \"new.txt\" only if it doesn't exist."
   ]
  },
  {
   "cell_type": "code",
   "execution_count": 14,
   "metadata": {},
   "outputs": [],
   "source": [
    "fp = open(\"new.txt\",\"w\")"
   ]
  },
  {
   "cell_type": "markdown",
   "metadata": {},
   "source": [
    "### 03) WAP to read first 5 lines from the text file."
   ]
  },
  {
   "cell_type": "code",
   "execution_count": 30,
   "metadata": {},
   "outputs": [
    {
     "name": "stdout",
     "output_type": "stream",
     "text": [
      "birva\n",
      "\n",
      "AAYUSHI\n",
      "\n",
      "siddhi\n",
      "\n",
      "manali\n",
      "\n",
      "Shreya\n",
      "\n"
     ]
    }
   ],
   "source": [
    "fp = open(\"new.txt\",\"r\")\n",
    "for i in range(0,5):\n",
    "    print(fp.readline())\n",
    "fp.close()"
   ]
  },
  {
   "cell_type": "markdown",
   "metadata": {},
   "source": [
    "### 04) WAP to find the longest word(s) in a file"
   ]
  },
  {
   "cell_type": "code",
   "execution_count": null,
   "metadata": {},
   "outputs": [],
   "source": [
    "maxx = 0\n",
    "fp = open(\"new.txt\",\"r\")\n",
    "for i in fp:\n",
    "    l1 = fp.readlines()\n",
    "for j in l1:\n",
    "    if(len(j)> 0):\n",
    "        maxx = j\n",
    "fp.close()\n",
    "print(maxx)"
   ]
  },
  {
   "cell_type": "markdown",
   "metadata": {},
   "source": [
    "### 05) WAP to count the no. of lines, words and characters in a given text file."
   ]
  },
  {
   "cell_type": "code",
   "execution_count": 6,
   "metadata": {},
   "outputs": [
    {
     "name": "stdout",
     "output_type": "stream",
     "text": [
      "['birva vaghasiya\\n', 'AAYUSHI\\n', 'siddhi\\n', 'manali\\n', 'Shreya\\n', 'bhoomi']\n",
      "6\n",
      "[['birva', 'vaghasiya\\n'], ['AAYUSHI\\n'], ['siddhi\\n'], ['manali\\n'], ['Shreya\\n'], ['bhoomi']]\n",
      "6\n"
     ]
    }
   ],
   "source": [
    "fp = open(\"new.txt\",\"r\")\n",
    "\n",
    "#readlines\n",
    "\n",
    "l1 = fp.readlines()\n",
    "    \n",
    "fp.seek(0)\n",
    "\n",
    "#readWords\n",
    "l2 = [];\n",
    "\n",
    "data = fp.readlines()\n",
    "\n",
    "for i in data:\n",
    "    l2.append(i.split(\" \"))\n",
    "fp.seek(0)\n",
    "\n",
    "fp.close()\n",
    "print(l1)\n",
    "print(len(l1))\n",
    "print(l2)\n",
    "print(len(l2))"
   ]
  },
  {
   "cell_type": "markdown",
   "metadata": {},
   "source": [
    "### 06) WAP to copy the content of a file to the another file."
   ]
  },
  {
   "cell_type": "code",
   "execution_count": 11,
   "metadata": {},
   "outputs": [
    {
     "name": "stdout",
     "output_type": "stream",
     "text": [
      "helloworld\n"
     ]
    },
    {
     "data": {
      "text/plain": [
       "10"
      ]
     },
     "execution_count": 11,
     "metadata": {},
     "output_type": "execute_result"
    }
   ],
   "source": [
    "fp=open(\"try.txt\",\"r\")\n",
    "data=fp.read()\n",
    "print(data)\n",
    "fs=open(\"copy.txt\",\"w\")\n",
    "fs.write(data)"
   ]
  },
  {
   "cell_type": "markdown",
   "metadata": {},
   "source": [
    "### 07) WAP to find the size of the text file. "
   ]
  },
  {
   "cell_type": "code",
   "execution_count": 12,
   "metadata": {},
   "outputs": [
    {
     "name": "stdout",
     "output_type": "stream",
     "text": [
      "File Size is : 11 bytes\n"
     ]
    }
   ],
   "source": [
    "import os\n",
    "file_size = os.path.getsize('try.txt')\n",
    "print(\"File Size is :\", file_size, \"bytes\")"
   ]
  },
  {
   "cell_type": "markdown",
   "metadata": {},
   "source": [
    "### 08) WAP to create an UDF named frequency to count occurances of the specific word in a given text file."
   ]
  },
  {
   "cell_type": "code",
   "execution_count": 16,
   "metadata": {},
   "outputs": [
    {
     "name": "stdout",
     "output_type": "stream",
     "text": [
      "The word 'hello' appears 3 times in the file.\n"
     ]
    }
   ],
   "source": [
    "def frequency(file_name, word):\n",
    "    file=open(file_name, 'r')\n",
    "    text = file.read()\n",
    "    text = text.lower()\n",
    "    words = text.split()\n",
    "    word_count = words.count(word.lower())\n",
    "    return word_count\n",
    "\n",
    "file_name = 'try.txt'  \n",
    "word_to_find = 'hello'  \n",
    "result = frequency(file_name, word_to_find)\n",
    "\n",
    "print(f\"The word '{word_to_find}' appears {result} times in the file.\")\n"
   ]
  },
  {
   "cell_type": "markdown",
   "metadata": {},
   "source": [
    "### 09) WAP to get the score of five subjects from the user, store them in a file. Fetch those marks and find the highest score."
   ]
  },
  {
   "cell_type": "code",
   "execution_count": 18,
   "metadata": {},
   "outputs": [
    {
     "name": "stdout",
     "output_type": "stream",
     "text": [
      "Enter score for Subject 1: 10\n",
      "Enter score for Subject 2: 20\n",
      "Enter score for Subject 3: 30\n",
      "Enter score for Subject 4: 40\n",
      "Enter score for Subject 5: 50\n",
      "[10.0, 20.0, 30.0, 40.0, 50.0]\n",
      "The highest score is: 50.0\n"
     ]
    }
   ],
   "source": [
    "file=open(\"scores.txt\", \"w\")\n",
    "for i in range(1, 6):\n",
    "    score = float(input(f\"Enter score for Subject {i}: \"))\n",
    "    file.write(f\"{score}\\n\")\n",
    "file=open(\"scores.txt\", \"r\")\n",
    "scores = [float(line.strip()) for line in file.readlines()]\n",
    "print(scores)\n",
    "highest_score = max(scores)\n",
    "print(f\"The highest score is: {highest_score}\")"
   ]
  },
  {
   "cell_type": "markdown",
   "metadata": {},
   "source": [
    "### 10) WAP to write first 100 prime numbers to a file named primenumbers.txt \n",
    "(Note: each number should be in new line)"
   ]
  },
  {
   "cell_type": "code",
   "execution_count": 22,
   "metadata": {},
   "outputs": [],
   "source": [
    "def is_prime(num):\n",
    "    if num <= 1:\n",
    "        return False\n",
    "    for i in range(2, int(num**0.5) + 1):\n",
    "        if num % i == 0:\n",
    "            return False\n",
    "    return True\n",
    "\n",
    "primes = []\n",
    "num = 2\n",
    "while len(primes) < 100:\n",
    "    if is_prime(num):\n",
    "        primes.append(num)\n",
    "    num += 1\n",
    "\n",
    "file=open(\"primenumbers.txt\", \"w\")\n",
    "for prime in primes:\n",
    "    file.write(f\"{prime}\\n\")\n"
   ]
  },
  {
   "cell_type": "markdown",
   "metadata": {},
   "source": [
    "### 11) WAP to merge two files and write it in a new file."
   ]
  },
  {
   "cell_type": "code",
   "execution_count": 26,
   "metadata": {},
   "outputs": [
    {
     "data": {
      "text/plain": [
       "10"
      ]
     },
     "execution_count": 26,
     "metadata": {},
     "output_type": "execute_result"
    }
   ],
   "source": [
    "f1=open(\"file1.txt\",\"r\")\n",
    "f2=open(\"file2.txt\",\"r\")\n",
    "data1=f1.read()\n",
    "data2=f2.read()\n",
    "f3=open(\"file3.txt\",\"w\")\n",
    "data3=data1+data2\n",
    "f3.write(data3)"
   ]
  },
  {
   "cell_type": "markdown",
   "metadata": {},
   "source": [
    "### 12) WAP to replace word1 by word2 of a text file. Write the updated data to new file."
   ]
  },
  {
   "cell_type": "code",
   "execution_count": 30,
   "metadata": {},
   "outputs": [
    {
     "data": {
      "text/plain": [
       "24"
      ]
     },
     "execution_count": 30,
     "metadata": {},
     "output_type": "execute_result"
    }
   ],
   "source": [
    "infile= open(\"try.txt\", 'r')\n",
    "data = infile.read()\n",
    "updated_data = data.replace('world', 'duniya')\n",
    "outfile=open(\"new.txt\", 'w')\n",
    "outfile.write(updated_data)"
   ]
  },
  {
   "cell_type": "markdown",
   "metadata": {},
   "source": [
    "### 13) Demonstrate tell() and seek() for all the cases(seek from beginning-end-current position) taking a suitable example of your choice."
   ]
  },
  {
   "cell_type": "code",
   "execution_count": 34,
   "metadata": {},
   "outputs": [
    {
     "name": "stdout",
     "output_type": "stream",
     "text": [
      "1. Seeking from the beginning:\n",
      "Current position: 0\n",
      "Hello, thi\n",
      "Position after reading 10 characters: 10\n",
      "\n",
      "2. Seeking from the current position:\n",
      "Position after reading 10 characters: 10\n",
      "Position after seeking from current: 10\n",
      "s is a tes\n",
      "\n",
      "3. Seeking from the end:\n",
      "Position from the end: 39\n",
      "Position after seeking 15 characters from the end: 39\n",
      "\n"
     ]
    }
   ],
   "source": [
    "file=open('example.txt', 'w+')\n",
    "file.write(\"Hello, this is a test file.\\nWelcome.\\n\")\n",
    "print(\"1. Seeking from the beginning:\")\n",
    "file.seek(0)\n",
    "print(\"Current position:\", file.tell())\n",
    "print(file.read(10))\n",
    "print(\"Position after reading 10 characters:\", file.tell())\n",
    "print(\"\\n2. Seeking from the current position:\")\n",
    "file.seek(0)\n",
    "file.read(10)\n",
    "print(\"Position after reading 10 characters:\", file.tell())\n",
    "\n",
    "print(\"Position after seeking from current:\", file.tell())\n",
    "print(file.read(10))\n",
    "print(\"\\n3. Seeking from the end:\")\n",
    "file.seek(0, 2)\n",
    "print(\"Position from the end:\", file.tell())\n",
    "\n",
    "print(\"Position after seeking 15 characters from the end:\", file.tell())\n",
    "print(file.read(10))\n"
   ]
  },
  {
   "cell_type": "code",
   "execution_count": null,
   "metadata": {},
   "outputs": [],
   "source": []
  }
 ],
 "metadata": {
  "kernelspec": {
   "display_name": "Python 3 (ipykernel)",
   "language": "python",
   "name": "python3"
  },
  "language_info": {
   "codemirror_mode": {
    "name": "ipython",
    "version": 3
   },
   "file_extension": ".py",
   "mimetype": "text/x-python",
   "name": "python",
   "nbconvert_exporter": "python",
   "pygments_lexer": "ipython3",
   "version": "3.10.9"
  }
 },
 "nbformat": 4,
 "nbformat_minor": 4
}
