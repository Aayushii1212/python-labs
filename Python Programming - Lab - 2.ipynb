{
 "cells": [
  {
   "cell_type": "markdown",
   "metadata": {},
   "source": [
    "\n",
    "<a href='https://www.darshan.ac.in/'> <img src='https://www.darshan.ac.in/Content/media/DU_Logo.svg' width=\"250\" height=\"300\"/></a>\n",
    "<pre>\n",
    "<center><b><h1>Python Programming - 2301CS404</b></center>\n",
    "<center><b><h1>Lab - 2</b></center>    \n",
    "<pre>"
   ]
  },
  {
   "cell_type": "markdown",
   "metadata": {},
   "source": [
    "# if..else.."
   ]
  },
  {
   "cell_type": "markdown",
   "metadata": {},
   "source": [
    "### 01) WAP to check whether the given number is positive or negative."
   ]
  },
  {
   "cell_type": "code",
   "execution_count": 3,
   "metadata": {},
   "outputs": [
    {
     "name": "stdout",
     "output_type": "stream",
     "text": [
      "Enter Number: 0\n",
      "zero\n"
     ]
    }
   ],
   "source": [
    "\n",
    "n = int(input(\"Enter Number: \"))\n",
    "if(n > 0):\n",
    "    print(f\"{n} is positive\")\n",
    "elif(n==0):\n",
    "    print(\"zero\")\n",
    "else:\n",
    "    print(\"Negative\")"
   ]
  },
  {
   "cell_type": "markdown",
   "metadata": {},
   "source": [
    "### 02) WAP to check whether the given number is odd or even."
   ]
  },
  {
   "cell_type": "code",
   "execution_count": 4,
   "metadata": {},
   "outputs": [
    {
     "name": "stdout",
     "output_type": "stream",
     "text": [
      "Enter Number: 23\n",
      "23 is odd\n"
     ]
    }
   ],
   "source": [
    "n = int(input(\"Enter Number: \"))\n",
    "if(n % 2 == 0):\n",
    "    print(f\"{n} is even\")\n",
    "else:\n",
    "   print(f\"{n} is odd\")"
   ]
  },
  {
   "cell_type": "markdown",
   "metadata": {},
   "source": [
    "### 03) WAP to find out largest number from given two numbers using simple if and ternary operator."
   ]
  },
  {
   "cell_type": "code",
   "execution_count": 9,
   "metadata": {},
   "outputs": [
    {
     "name": "stdout",
     "output_type": "stream",
     "text": [
      "Enter Number1: 23\n",
      "Enter Number2: 123\n",
      "123 is largest\n",
      "123\n"
     ]
    }
   ],
   "source": [
    "n1 = int(input(\"Enter Number1: \"))\n",
    "n2 = int(input(\"Enter Number2: \"))\n",
    "if(n1>n2):\n",
    "    print(f\"{n1} is largest\")\n",
    "else:\n",
    "    print(f\"{n2} is largest\")\n",
    "    \n",
    "largest = n1 if n1>n2 else n2\n",
    "print(largest)\n"
   ]
  },
  {
   "cell_type": "markdown",
   "metadata": {},
   "source": [
    "### 04) WAP to find out largest number from given three numbers."
   ]
  },
  {
   "cell_type": "code",
   "execution_count": 11,
   "metadata": {
    "scrolled": true
   },
   "outputs": [
    {
     "name": "stdout",
     "output_type": "stream",
     "text": [
      "Enter Number1: 23\n",
      "Enter Number2: 123\n",
      "Enter Number1: 56\n",
      "123 is largest\n"
     ]
    }
   ],
   "source": [
    "n1 = int(input(\"Enter Number1: \"))\n",
    "n2 = int(input(\"Enter Number2: \"))\n",
    "n3 = int(input(\"Enter Number1: \"))\n",
    "\n",
    "if(n1>n2):\n",
    "    if(n1>n3):\n",
    "        print(f\"{n1} is largest\")\n",
    "    else:\n",
    "         print(f\"{n3} is largest\")\n",
    "else:\n",
    "    if(n2>n3):\n",
    "        print(f\"{n2} is largest\")\n",
    "    else:\n",
    "         print(f\"{n3} is largest\")"
   ]
  },
  {
   "cell_type": "markdown",
   "metadata": {},
   "source": [
    "# 05) WAP to check whether the given year is leap year or not.\n",
    "[If a year can be divisible by 4 but not divisible by 100 then it is leap year but if it is divisible by 400 then it is leap year]"
   ]
  },
  {
   "cell_type": "code",
   "execution_count": 13,
   "metadata": {},
   "outputs": [
    {
     "name": "stdout",
     "output_type": "stream",
     "text": [
      "Enter year: 2000\n",
      "2000 isn't leap year.\n"
     ]
    }
   ],
   "source": [
    "n1 = int(input(\"Enter year: \"))\n",
    "if((n1 % 4 == 0 and n1 % 100 != 0) and (n1 % 400 == 0)):\n",
    "    print(f\"{n1} is leap year.\")\n",
    "else:\n",
    "     print(f\"{n1} isn't leap year.\")"
   ]
  },
  {
   "cell_type": "markdown",
   "metadata": {},
   "source": [
    "### 06) WAP in python to display the name of the day according to the number given by the user."
   ]
  },
  {
   "cell_type": "code",
   "execution_count": 16,
   "metadata": {},
   "outputs": [
    {
     "name": "stdout",
     "output_type": "stream",
     "text": [
      "Enter number: 6\n",
      "saturday\n"
     ]
    }
   ],
   "source": [
    "n1 = int(input(\"Enter number: \"))\n",
    "n1 = n1 % 7\n",
    "match n1:\n",
    "    case 0:\n",
    "        print(\"sunday\")\n",
    "    case 1:\n",
    "        print(\"monday\")\n",
    "    case 2:\n",
    "        print(\"tuesday\")\n",
    "    case 3:\n",
    "        print(\"wednesday\")\n",
    "    case 4:\n",
    "        print(\"thrusday\")\n",
    "    case 5:\n",
    "        print(\"friday\")\n",
    "    case 6:\n",
    "        print(\"saturday\")"
   ]
  },
  {
   "cell_type": "markdown",
   "metadata": {},
   "source": [
    "### 07) WAP to implement simple calculator which performs (add,sub,mul,div) of two no. based on user input."
   ]
  },
  {
   "cell_type": "code",
   "execution_count": 17,
   "metadata": {},
   "outputs": [
    {
     "name": "stdout",
     "output_type": "stream",
     "text": [
      "Enter number: 2\n",
      "Enter number: 6\n",
      "Enter + to add, - to subtract, * to multiply, / to devide :+\n",
      "2 + 6 = 8\n"
     ]
    }
   ],
   "source": [
    "n1 = int(input(\"Enter number: \"))\n",
    "n2 = int(input(\"Enter number: \"))\n",
    "\n",
    "o = (input(\"Enter + to add, - to subtract, * to multiply, / to devide :\"))\n",
    "if(o == '+'):\n",
    "    print(f\"{n1} + {n2} = {n1+n2}\")\n",
    "elif(o == '-'):\n",
    "    print(f\"{n1} - {n2} = {n1-n2}\")\n",
    "elif(o == '-'):\n",
    "    print(f\"{n1} - {n2} = {n1-n2}\")\n",
    "elif(o == '-'):\n",
    "    print(f\"{n1} - {n2} = {n1-n2}\")\n",
    "else:\n",
    "    print(\"Invaild input\")"
   ]
  },
  {
   "cell_type": "markdown",
   "metadata": {},
   "source": [
    "### 08) WAP to read marks of five subjects. Calculate percentage and print class accordingly. \n",
    "Fail below 35 </br>\n",
    "Pass Class between 35 to 45 </br>\n",
    "Second Class</br>\n",
    "between 45 to 60</br>\n",
    "First Class between 60 to 70</br> \n",
    "Distinction if more than 70"
   ]
  },
  {
   "cell_type": "code",
   "execution_count": 20,
   "metadata": {},
   "outputs": [
    {
     "name": "stdout",
     "output_type": "stream",
     "text": [
      "Enter number: 56\n",
      "Enter number: 56\n",
      "Enter number: 56\n",
      "Enter number: 56\n",
      "Enter number: 56\n",
      "second\n"
     ]
    }
   ],
   "source": [
    "\n",
    "n1 = int(input(\"Enter number: \"))\n",
    "n2 = int(input(\"Enter number: \"))\n",
    "n3 = int(input(\"Enter number: \"))\n",
    "n4 = int(input(\"Enter number: \"))\n",
    "n5 = int(input(\"Enter number: \"))\n",
    "o = (n1+n2+n3+n4+n5)/5\n",
    "if(o < 35):\n",
    "    print(\"Fail\")\n",
    "elif(o < 45):\n",
    "    print(\"pass\")\n",
    "elif(o < 60):\n",
    "    print(f\"second\")\n",
    "elif(o < 70):\n",
    "    print(f\"First\")\n",
    "else:\n",
    "    print(\"distinction\")"
   ]
  },
  {
   "cell_type": "markdown",
   "metadata": {},
   "source": [
    "### 09) Three sides of a triangle are entered through the keyboard, WAP to check whether the triangle is isosceles, equilateral, scalene or right-angled triangle."
   ]
  },
  {
   "cell_type": "code",
   "execution_count": 25,
   "metadata": {},
   "outputs": [
    {
     "name": "stdout",
     "output_type": "stream",
     "text": [
      "Enter side: 3\n",
      "Enter side: 4\n",
      "Enter side: 5\n",
      "scalene\n",
      "Right-a\n"
     ]
    }
   ],
   "source": [
    "n1 = int(input(\"Enter side: \"))\n",
    "n2 = int(input(\"Enter side: \"))\n",
    "n3 = int(input(\"Enter side: \"))\n",
    "if((n1 == n2)and (n2 == n3)):\n",
    "    print(\"equilateral\")\n",
    "elif((n1==n2) or (n2==n3) or (n1==n3)):\n",
    "    print(\"isosceles\")\n",
    "    \n",
    "if((n1 != n2) and (n2 != n3) and (n1 != n3)):\n",
    "    print(\"scalene\")\n",
    "if((n1**2 == n2**2+n3**2) or (n2**2 == n1**2+n3**2) or (n3**2 == n2**2+n1**2)):\n",
    "    print(\"Right-angled\")"
   ]
  },
  {
   "cell_type": "code",
   "execution_count": null,
   "metadata": {},
   "outputs": [],
   "source": []
  },
  {
   "cell_type": "markdown",
   "metadata": {},
   "source": [
    "### 10) WAP to find the second largest number among three user input numbers."
   ]
  },
  {
   "cell_type": "code",
   "execution_count": 24,
   "metadata": {},
   "outputs": [
    {
     "name": "stdout",
     "output_type": "stream",
     "text": [
      "Enter Number1: 23\n",
      "Enter Number2: 56\n",
      "Enter Number3: 89\n",
      "56 is second largest\n"
     ]
    }
   ],
   "source": [
    "n1 = int(input(\"Enter Number1: \"))\n",
    "n2 = int(input(\"Enter Number2: \"))\n",
    "n3 = int(input(\"Enter Number3: \"))\n",
    "\n",
    "if(n1>n2):\n",
    "    if(n1>n3):\n",
    "        print(f\"{n3} is second largest\")\n",
    "    else:\n",
    "         print(f\"{n1} is second largest\")\n",
    "else:\n",
    "    if(n2>n3):\n",
    "        print(f\"{n3} is second largest\")\n",
    "    else:\n",
    "         print(f\"{n2} is second largest\")"
   ]
  },
  {
   "cell_type": "markdown",
   "metadata": {},
   "source": [
    "### 11) WAP to calculate electricity bill based on following criteria. Which takes the unit from the user.\n",
    "a. First 1 to 50 units – Rs. 2.60/unit</br>\n",
    "b. Next 50 to 100 units – Rs. 3.25/unit</br>\n",
    "c. Next 100 to 200 units – Rs. 5.26/unit</br>\n",
    "d. above 200 units – Rs. 8.45/unit"
   ]
  },
  {
   "cell_type": "code",
   "execution_count": 32,
   "metadata": {},
   "outputs": [
    {
     "name": "stdout",
     "output_type": "stream",
     "text": [
      "Enter units: 500\n",
      "amount is 3353.5\n"
     ]
    }
   ],
   "source": [
    "n1 = int(input(\"Enter units: \"))\n",
    "\n",
    "if(n1 <= 50):\n",
    "    print(f\"amount is {n1*2.6}\")\n",
    "elif(n1<=100):\n",
    "    print(f\"amount is {50*2.6 + (n1-50)*3.25}\")\n",
    "elif(n1<=200):\n",
    "    print(f\"amount is {(50*2.6) + (50*3.25) + ((n1-100)*5.26)}\")\n",
    "else:\n",
    "     print(f\"amount is {(50*2.6) + (50*3.25) + (100*5.26) + ((n1-200)*8.45)}\")"
   ]
  }
 ],
 "metadata": {
  "kernelspec": {
   "display_name": "Python 3 (ipykernel)",
   "language": "python",
   "name": "python3"
  },
  "language_info": {
   "codemirror_mode": {
    "name": "ipython",
    "version": 3
   },
   "file_extension": ".py",
   "mimetype": "text/x-python",
   "name": "python",
   "nbconvert_exporter": "python",
   "pygments_lexer": "ipython3",
   "version": "3.10.9"
  }
 },
 "nbformat": 4,
 "nbformat_minor": 4
}
