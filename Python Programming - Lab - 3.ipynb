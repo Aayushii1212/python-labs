{
 "cells": [
  {
   "cell_type": "markdown",
   "metadata": {},
   "source": [
    "\n",
    "<a href='https://www.darshan.ac.in/'> <img src='https://www.darshan.ac.in/Content/media/DU_Logo.svg' width=\"250\" height=\"300\"/></a>\n",
    "<pre>\n",
    "<center><b><h1>Python Programming - 2301CS404</b></center>\n",
    "<center><b><h1>Lab - 3</b></center>    \n",
    "<pre>"
   ]
  },
  {
   "cell_type": "markdown",
   "metadata": {},
   "source": [
    "# for and while loop"
   ]
  },
  {
   "cell_type": "markdown",
   "metadata": {},
   "source": [
    "### 01) WAP to print 1 to 10."
   ]
  },
  {
   "cell_type": "code",
   "execution_count": 1,
   "metadata": {},
   "outputs": [
    {
     "name": "stdout",
     "output_type": "stream",
     "text": [
      "1 2 3 4 5 6 7 8 9 10 "
     ]
    }
   ],
   "source": [
    "for i in range(10):\n",
    "    print(i + 1 , end = \" \");"
   ]
  },
  {
   "cell_type": "markdown",
   "metadata": {},
   "source": [
    "### 02) WAP to print 1 to n."
   ]
  },
  {
   "cell_type": "code",
   "execution_count": 2,
   "metadata": {},
   "outputs": [
    {
     "name": "stdout",
     "output_type": "stream",
     "text": [
      "Enter number: 5\n",
      "1 2 3 4 5 "
     ]
    }
   ],
   "source": [
    "n = int(input(\"Enter number: \"));\n",
    "for i in range(n):\n",
    "    print(i + 1 , end = \" \");"
   ]
  },
  {
   "cell_type": "markdown",
   "metadata": {},
   "source": [
    "### 03) WAP to print odd numbers between 1 to n."
   ]
  },
  {
   "cell_type": "code",
   "execution_count": 4,
   "metadata": {},
   "outputs": [
    {
     "name": "stdout",
     "output_type": "stream",
     "text": [
      "Enter number: 10\n",
      "1 3 5 7 9 "
     ]
    }
   ],
   "source": [
    "n = int(input(\"Enter number: \"));\n",
    "for i in range(n):\n",
    "    if((i+1)%2==1):\n",
    "        print(i + 1 , end = \" \");"
   ]
  },
  {
   "cell_type": "markdown",
   "metadata": {},
   "source": [
    "### 04) WAP to print numbers between two given numbers which is divisible by 2 but not divisible by 3."
   ]
  },
  {
   "cell_type": "code",
   "execution_count": 5,
   "metadata": {},
   "outputs": [
    {
     "name": "stdout",
     "output_type": "stream",
     "text": [
      "Enter starting number: 1\n",
      "Enter ending number: 10\n",
      "2 4 8 10 "
     ]
    }
   ],
   "source": [
    "n = int(input(\"Enter starting number: \"));\n",
    "m = int(input(\"Enter ending number: \"));\n",
    "for i in range(n,m):\n",
    "    if(((i+1)%2==0) and ((i+1)%3 != 0)):\n",
    "        print(i + 1 , end = \" \");"
   ]
  },
  {
   "cell_type": "markdown",
   "metadata": {},
   "source": [
    "### 05) WAP to print sum of 1 to n numbers."
   ]
  },
  {
   "cell_type": "code",
   "execution_count": 12,
   "metadata": {},
   "outputs": [
    {
     "name": "stdout",
     "output_type": "stream",
     "text": [
      "Enter number: 3\n",
      "6\n"
     ]
    }
   ],
   "source": [
    "n = int(input(\"Enter number: \"));\n",
    "ans = 0\n",
    "for i in range(1,n+1):\n",
    "    ans = ans + i;\n",
    "print(ans);"
   ]
  },
  {
   "cell_type": "markdown",
   "metadata": {},
   "source": [
    "### 06) WAP to print sum of series 1 + 4 + 9 + 16 + 25 + 36 + ...n."
   ]
  },
  {
   "cell_type": "code",
   "execution_count": 13,
   "metadata": {},
   "outputs": [
    {
     "name": "stdout",
     "output_type": "stream",
     "text": [
      "Enter number: 3\n",
      "14\n"
     ]
    }
   ],
   "source": [
    "import math\n",
    "n = int(input(\"Enter number: \"));\n",
    "ans = 0\n",
    "for i in range(1,n+1):\n",
    "    ans = ans + i**2;\n",
    "print(ans);"
   ]
  },
  {
   "cell_type": "markdown",
   "metadata": {},
   "source": [
    "### 07) WAP to print sum of series 1 – 2 + 3 – 4 + 5 – 6 + 7 ... n."
   ]
  },
  {
   "cell_type": "code",
   "execution_count": 20,
   "metadata": {},
   "outputs": [
    {
     "name": "stdout",
     "output_type": "stream",
     "text": [
      "Enter number: 5\n",
      "3\n"
     ]
    }
   ],
   "source": [
    "n = int(input(\"Enter number: \"));\n",
    "odd = 0\n",
    "even = 0\n",
    "for i in range(1,n+1):\n",
    "    if(i%2==1):\n",
    "        odd += i\n",
    "    else:\n",
    "        even += i\n",
    "print(odd-even)        "
   ]
  },
  {
   "cell_type": "markdown",
   "metadata": {},
   "source": [
    "### 08) WAP to print multiplication table of given number."
   ]
  },
  {
   "cell_type": "code",
   "execution_count": 24,
   "metadata": {},
   "outputs": [
    {
     "name": "stdout",
     "output_type": "stream",
     "text": [
      "Enter number: 3\n",
      "3 * 1 = 3\n",
      "3 * 2 = 6\n",
      "3 * 3 = 9\n",
      "3 * 4 = 12\n",
      "3 * 5 = 15\n",
      "3 * 6 = 18\n",
      "3 * 7 = 21\n",
      "3 * 8 = 24\n",
      "3 * 9 = 27\n",
      "3 * 10 = 30\n"
     ]
    }
   ],
   "source": [
    "n = int(input(\"Enter number: \"));\n",
    "for i in range(1,11):\n",
    "    print(f'{n} * {i} = {n*i}');\n",
    "    "
   ]
  },
  {
   "cell_type": "markdown",
   "metadata": {},
   "source": [
    "### 09) WAP to find factorial of the given number."
   ]
  },
  {
   "cell_type": "code",
   "execution_count": 25,
   "metadata": {},
   "outputs": [
    {
     "name": "stdout",
     "output_type": "stream",
     "text": [
      "Enter number: 3\n",
      "3! = 6\n"
     ]
    }
   ],
   "source": [
    "n = int(input(\"Enter number: \"));\n",
    "ans = 1\n",
    "for i in range(1,n+1):\n",
    "    ans *= i;\n",
    "print(f'{n}! = {ans}')"
   ]
  },
  {
   "cell_type": "markdown",
   "metadata": {},
   "source": [
    "### 10) WAP to find factors of the given number."
   ]
  },
  {
   "cell_type": "code",
   "execution_count": 26,
   "metadata": {},
   "outputs": [
    {
     "name": "stdout",
     "output_type": "stream",
     "text": [
      "Enter number: 6\n",
      "1 2 3 6 "
     ]
    }
   ],
   "source": [
    "n = int(input(\"Enter number: \"));\n",
    "for i in range(1,n+1):\n",
    "    if(n%i == 0):\n",
    "        print(i,end=\" \")"
   ]
  },
  {
   "cell_type": "markdown",
   "metadata": {},
   "source": [
    "### 11) WAP to find whether the given number is prime or not."
   ]
  },
  {
   "cell_type": "code",
   "execution_count": 31,
   "metadata": {},
   "outputs": [
    {
     "name": "stdout",
     "output_type": "stream",
     "text": [
      "Enter number: 6\n",
      "6 is prime number.\n"
     ]
    }
   ],
   "source": [
    "n = int(input(\"Enter number: \"));\n",
    "for i in range(2,n):\n",
    "    if(n%i == 0):\n",
    "        print(f\"{n} is prime number.\");\n",
    "        break\n",
    "else:\n",
    "    print(f\"{n} is not a prime number.\")"
   ]
  },
  {
   "cell_type": "markdown",
   "metadata": {},
   "source": [
    "### 12) WAP to print sum of digits of given number."
   ]
  },
  {
   "cell_type": "code",
   "execution_count": 34,
   "metadata": {},
   "outputs": [
    {
     "name": "stdout",
     "output_type": "stream",
     "text": [
      "Enter number: 23\n",
      "5\n"
     ]
    }
   ],
   "source": [
    "n = int(input(\"Enter number: \"));\n",
    "ans = 0;\n",
    "while n!=0:\n",
    "    ans += n%10;\n",
    "    n = int(n/10);\n",
    "print(ans)"
   ]
  },
  {
   "cell_type": "markdown",
   "metadata": {},
   "source": [
    "### 13) WAP to check whether the given number is palindrome or not"
   ]
  },
  {
   "cell_type": "code",
   "execution_count": 36,
   "metadata": {},
   "outputs": [
    {
     "name": "stdout",
     "output_type": "stream",
     "text": [
      "Enter number: 232\n",
      "232 is palindrom\n"
     ]
    }
   ],
   "source": [
    "n = int(input(\"Enter number: \"));\n",
    "temp = n\n",
    "ans = 0;\n",
    "while n!=0:\n",
    "    ans = ans*10 + n%10;\n",
    "    n = int(n/10);\n",
    "if(temp == ans):    \n",
    "    print(f\"{ans} is palindrom\")\n",
    "else:\n",
    "    print(f\"{ans} is not palindrom\")"
   ]
  },
  {
   "cell_type": "markdown",
   "metadata": {},
   "source": [
    "### 14) WAP to print GCD of given two numbers."
   ]
  },
  {
   "cell_type": "code",
   "execution_count": 41,
   "metadata": {},
   "outputs": [
    {
     "name": "stdout",
     "output_type": "stream",
     "text": [
      "Enter number: 15\n",
      "Enter number: 12\n",
      "3\n"
     ]
    }
   ],
   "source": [
    "n = int(input(\"Enter number: \"));\n",
    "m = int(input(\"Enter number: \"));\n",
    "gcd = 0\n",
    "for i in range(1,n+1):\n",
    "    if(n%i == 0 and m%i == 0):\n",
    "        if(i > gcd):\n",
    "            gcd = i;\n",
    "print(gcd)            "
   ]
  }
 ],
 "metadata": {
  "kernelspec": {
   "display_name": "Python 3 (ipykernel)",
   "language": "python",
   "name": "python3"
  },
  "language_info": {
   "codemirror_mode": {
    "name": "ipython",
    "version": 3
   },
   "file_extension": ".py",
   "mimetype": "text/x-python",
   "name": "python",
   "nbconvert_exporter": "python",
   "pygments_lexer": "ipython3",
   "version": "3.10.9"
  }
 },
 "nbformat": 4,
 "nbformat_minor": 4
}
